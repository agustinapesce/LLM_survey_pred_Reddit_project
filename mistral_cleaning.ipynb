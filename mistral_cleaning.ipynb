{
 "cells": [
  {
   "cell_type": "markdown",
   "metadata": {},
   "source": [
    "Answer cleaning for Mistral results"
   ]
  },
  {
   "cell_type": "code",
   "execution_count": 1,
   "metadata": {},
   "outputs": [],
   "source": [
    "import json\n",
    "import re\n",
    "import pandas as pd\n",
    "import numpy as np"
   ]
  },
  {
   "cell_type": "code",
   "execution_count": 2,
   "metadata": {},
   "outputs": [
    {
     "name": "stderr",
     "output_type": "stream",
     "text": [
      "C:\\Users\\sofik\\AppData\\Local\\Temp\\ipykernel_22216\\2949925994.py:1: DtypeWarning: Columns (15,17,18,19,21,22,23,25,26,27,29,30,31,33,34,35,37,38,1508,1509) have mixed types. Specify dtype option on import or set low_memory=False.\n",
      "  anes = pd.read_csv('data/anes_timeseries_2020_csv_20220210.csv')\n"
     ]
    }
   ],
   "source": [
    "anes = pd.read_csv('data/anes_timeseries_2020_csv_20220210.csv')\n",
    "\n",
    "filename = \"data/anes_questions.json\"\n",
    "with open(filename, \"r\") as f:\n",
    "    questions = json.load(f)\n",
    "\n",
    "# Question had an option for free text answer, which is not useful for the analysis\n",
    "# turned into negative value to not take it into account\n",
    "anes['V201336'].replace(5, -7, inplace=True)\n",
    "\n",
    "questcode_topic = {\"V201336\": \"abortion1\",\n",
    "              \"V201342x\": \"abortion2\",\n",
    "              \"V202332\": \"climate change1\",\n",
    "              \"V202333\": \"climate change2\",\n",
    "              \"V202337\": \"gun control1\",\n",
    "              \"V202341x\": \"gun control2\",\n",
    "              \"V202344x\": \"gun control3\",\n",
    "              \"V202232\": \"immigration1\",\n",
    "              \"V202233\": \"immigration2\",\n",
    "              \"V202236x\":\"immigration3\",\n",
    "              \"V202380x\": \"healthcare1\"}"
   ]
  },
  {
   "cell_type": "code",
   "execution_count": 10,
   "metadata": {},
   "outputs": [],
   "source": [
    "with open('outputs/mistral_few_ans.json', 'r') as f:\n",
    "    mistral_few_ans = json.load(f)\n",
    "\n",
    "with open('outputs/mistralSE_few_ans.json', 'r') as f:\n",
    "    mistral_SE_few_ans = json.load(f)\n",
    "\n",
    "with open('outputs/answers_mistral_zero.json', 'r') as f:\n",
    "    mistral_zero_ans = json.load(f)\n",
    "\n",
    "with open('outputs/mistral_few_strict.json', 'r') as f:\n",
    "    mistral_few_strict = json.load(f)\n",
    "\n",
    "with open('outputs/mistralSE_few_strict.json', 'r') as f:\n",
    "    mistral_SE_few_strict = json.load(f)"
   ]
  },
  {
   "cell_type": "code",
   "execution_count": 4,
   "metadata": {},
   "outputs": [],
   "source": [
    "def clean_mistral(data):\n",
    "    final_ans_dict = {}\n",
    "    pattern1 = r'\\{.*?\\}'\n",
    "\n",
    "    for key, value in data.items():\n",
    "        answer_list = []\n",
    "        # print(key)\n",
    "        for item in value:\n",
    "            item = item.replace('\\n', '').replace('%', '')\n",
    "            # Add a closing parenthesis if missing\n",
    "            if item.count('{') > item.count('}'):\n",
    "                item += \"}\"\n",
    "            # Correct wrong number format\n",
    "            item = item.replace('.}', '.0}').replace(':}', ':0}')\n",
    "            # Only match with the parenthesis and not any additional content\n",
    "            match = re.search(pattern1, item)\n",
    "            matched = match.group(0)\n",
    "            final_ans = eval(matched)  \n",
    "\n",
    "            answer_list.append(final_ans)\n",
    "            # Check if each dict has right amount of answers\n",
    "            # Valid number of answers\n",
    "        valid_ans = anes[anes[key] > 0]\n",
    "        number_answers = len(valid_ans[key].unique())\n",
    "        # LLM number of answers\n",
    "        ans_dict = [i for i in answer_list if len(i) == number_answers]\n",
    "\n",
    "        final_ans_dict[key] = ans_dict\n",
    "    return final_ans_dict\n",
    "        \n",
    "mistral_few_ans = clean_mistral(mistral_few_ans)\n",
    "mistral_SE_few_ans = clean_mistral(mistral_SE_few_ans)\n",
    "mistral_zero_ans = clean_mistral(mistral_zero_ans)\n",
    "mistral_few_strict = clean_mistral(mistral_few_strict)\n",
    "mistral_SE_few_strict = clean_mistral(mistral_SE_few_strict)"
   ]
  },
  {
   "cell_type": "code",
   "execution_count": 5,
   "metadata": {},
   "outputs": [],
   "source": [
    "def check_and_normalize(answer_object):\n",
    "    for key, answers in answer_object.items():\n",
    "        \n",
    "        #check if answers add up to 100%\n",
    "        valid_answer = []\n",
    "        for i in answers:\n",
    "            if sum(i.values()) == 100:\n",
    "                valid_answer.append(i)\n",
    "\n",
    "            # If not normalize for 100\n",
    "            else:\n",
    "                # print(f\"Sum is not equal to 100 in answer: {key}, {sum(i.values())}\")\n",
    "                sum_val = sum(i.values())\n",
    "               \n",
    "                for quest, ele in i.items():\n",
    "                    norm = round(ele*100/sum_val, 1)\n",
    "                    i[quest] = norm\n",
    "                    valid_answer.append(i)\n",
    "\n",
    "        if valid_answer:  # If there are valid answers\n",
    "            array_data = np.array([list(dic.values()) for dic in valid_answer])\n",
    "            averages = np.mean(array_data, axis=0)\n",
    "            averages = np.round(averages, 1)\n",
    "            av_dict = dict(enumerate(averages.flatten(), 1))\n",
    "            answers.append(av_dict)\n",
    "        else:\n",
    "            print(\"No valid answers found.\")\n",
    "        \n",
    "    return answer_object\n"
   ]
  },
  {
   "cell_type": "code",
   "execution_count": 6,
   "metadata": {},
   "outputs": [
    {
     "name": "stdout",
     "output_type": "stream",
     "text": [
      "No valid answers found.\n",
      "No valid answers found.\n",
      "No valid answers found.\n"
     ]
    }
   ],
   "source": [
    "mistral_few_ans = check_and_normalize(mistral_few_ans)\n",
    "mistral_SE_few_ans = check_and_normalize(mistral_SE_few_ans)\n",
    "mistral_zero_ans = check_and_normalize(mistral_zero_ans)\n",
    "mistral_few_strict = check_and_normalize(mistral_few_strict)\n",
    "mistral_SE_few_strict = check_and_normalize(mistral_SE_few_strict)\n",
    "\n",
    "# save to JSON\n",
    "with open('outputs/mistral_clean/mistral_few_ans.json', 'w') as f:\n",
    "    json.dump(mistral_few_ans, f)\n",
    "\n",
    "with open('outputs/mistral_clean/mistral_SE_few_ans.json', 'w') as f:\n",
    "    json.dump(mistral_SE_few_ans, f)\n",
    "\n",
    "with open('outputs/mistral_clean/mistral_zero_ans.json', 'w') as f:\n",
    "    json.dump(mistral_zero_ans, f)\n",
    "\n",
    "with open('outputs/mistral_clean/mistral_few_strict.json', 'w') as f:\n",
    "    json.dump(mistral_few_strict, f)\n",
    "\n",
    "with open('outputs/mistral_clean/mistral_SE_few_strict.json', 'w') as f:\n",
    "    json.dump(mistral_SE_few_strict, f)"
   ]
  },
  {
   "cell_type": "code",
   "execution_count": 9,
   "metadata": {},
   "outputs": [
    {
     "data": {
      "text/plain": [
       "{'V201336': [{1: 10, 2: 15, 3: 25, 4: 50},\n",
       "  {1: 25.0, 2: 25.0, 3: 25.0, 4: 25.0},\n",
       "  {1: 25.0, 2: 25.0, 3: 25.0, 4: 25.0},\n",
       "  {1: 25.0, 2: 25.0, 3: 25.0, 4: 25.0},\n",
       "  {1: 10.0, 2: 11.0, 3: 12.9, 4: 66.2},\n",
       "  {1: 20.6, 2: 21.1, 3: 22.2, 4: 36.2}],\n",
       " 'V201342x': [],\n",
       " 'V202332': [{'1': 20.0, '2': 20.0, '3': 20.0, '4': 20.0, '5': 20.0},\n",
       "  {'1': 20.0, '2': 20.0, '3': 20.0, '4': 20.0, '5': 20.0},\n",
       "  {'1': 20.0, '2': 20.0, '3': 20.0, '4': 20.0, '5': 20.0},\n",
       "  {'1': 20.0, '2': 20.0, '3': 20.0, '4': 20.0, '5': 20.0},\n",
       "  {1: 20.0, 2: 20.0, 3: 20.0, 4: 20.0, 5: 20.0},\n",
       "  {1: 20.0, 2: 20.0, 3: 20.0, 4: 20.0, 5: 20.0}],\n",
       " 'V202333': [{'1': 11.9, '2': 13.1, '3': 17.9, '4': 25.0, '5': 32.1},\n",
       "  {'1': 20.0, '2': 20.0, '3': 20.0, '4': 20.0, '5': 20.0},\n",
       "  {'1': 20.0, '2': 20.0, '3': 20.0, '4': 20.0, '5': 20.0},\n",
       "  {'1': 20.0, '2': 20.0, '3': 20.0, '4': 20.0, '5': 20.0},\n",
       "  {'1': 20.0, '2': 20.0, '3': 20.0, '4': 20.0, '5': 20.0},\n",
       "  {1: 18.4, 2: 18.6, 3: 19.6, 4: 21.0, 5: 22.4}],\n",
       " 'V202337': [{'1': 12.0, '2': 12.0, '3': 75.9},\n",
       "  {1: 12.0, 2: 12.0, 3: 75.9},\n",
       "  {'1': 12.0, '2': 12.0, '3': 75.9},\n",
       "  {'1': 12.0, '2': 12.0, '3': 75.9},\n",
       "  {'1': 11.5, '2': 11.5, '3': 77.0},\n",
       "  {1: 11.9, 2: 11.9, 3: 76.1}],\n",
       " 'V202341x': [{1: 13.3, 2: 14.7, 3: 14.7, 4: 13.3, 5: 14.7, 6: 14.7, 7: 14.7},\n",
       "  {1: 14.3, 2: 14.3, 3: 14.3, 4: 14.3, 5: 14.3, 6: 14.3, 7: 14.3},\n",
       "  {1: 13.8, 2: 14.5, 3: 14.5, 4: 13.8, 5: 14.5, 6: 14.5, 7: 14.5}],\n",
       " 'V202344x': [],\n",
       " 'V202232': [{1: 20.0, 2: 20.0, 3: 20.0, 4: 20.0, 5: 20.0},\n",
       "  {1: 20.0, 2: 20.0, 3: 20.0, 4: 20.0, 5: 20.0},\n",
       "  {1: 20.0, 2: 20.0, 3: 20.0, 4: 20.0, 5: 20.0},\n",
       "  {1: 20.0, 2: 20.0, 3: 20.0, 4: 20.0, 5: 20.0},\n",
       "  {1: 20.0, 2: 20.0, 3: 20.0, 4: 20.0, 5: 20.0},\n",
       "  {1: 20.0, 2: 20.0, 3: 20.0, 4: 20.0, 5: 20.0}],\n",
       " 'V202233': [{'1': 25.0, '2': 25.0, '3': 25.0, '4': 25.0},\n",
       "  {'1': 25.0, '2': 25.0, '3': 25.0, '4': 25.0},\n",
       "  {'1': 25.0, '2': 25.0, '3': 25.0, '4': 25.0},\n",
       "  {'1': 25.0, '2': 25.0, '3': 25.0, '4': 25.0},\n",
       "  {1: 23.8, 2: 26.2, 3: 26.2, 4: 23.8},\n",
       "  {1: 24.8, 2: 25.2, 3: 25.2, 4: 24.8}],\n",
       " 'V202236x': [],\n",
       " 'V202380x': [{1: 13.2, 2: 14.5, 3: 14.5, 4: 14.5, 5: 14.5, 6: 14.5, 7: 14.5},\n",
       "  {1: 13.2, 2: 14.5, 3: 14.5, 4: 14.5, 5: 14.5, 6: 14.5, 7: 14.5},\n",
       "  {1: 13.2, 2: 14.5, 3: 14.5, 4: 14.5, 5: 14.5, 6: 14.5, 7: 14.5},\n",
       "  {1: 13.2, 2: 14.5, 3: 14.5, 4: 14.5, 5: 14.5, 6: 14.5, 7: 14.5}]}"
      ]
     },
     "execution_count": 9,
     "metadata": {},
     "output_type": "execute_result"
    }
   ],
   "source": [
    "mistral_few_strict"
   ]
  }
 ],
 "metadata": {
  "kernelspec": {
   "display_name": "Python 3",
   "language": "python",
   "name": "python3"
  },
  "language_info": {
   "codemirror_mode": {
    "name": "ipython",
    "version": 3
   },
   "file_extension": ".py",
   "mimetype": "text/x-python",
   "name": "python",
   "nbconvert_exporter": "python",
   "pygments_lexer": "ipython3",
   "version": "3.12.0"
  }
 },
 "nbformat": 4,
 "nbformat_minor": 2
}
